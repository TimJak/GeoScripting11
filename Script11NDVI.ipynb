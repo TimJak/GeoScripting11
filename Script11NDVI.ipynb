{
 "metadata": {
  "name": "",
  "signature": "sha256:2cdef28e20256057c09fdc2112c997fbdcf9d43b1d6f35d407190b02622978b1"
 },
 "nbformat": 3,
 "nbformat_minor": 0,
 "worksheets": [
  {
   "cells": [
    {
     "cell_type": "code",
     "collapsed": false,
     "input": [
      "# -*- coding: utf-8 -*-\n",
      "\"\"\"\n",
      "Created on Tue Jan 24 15:02:33 2017\n",
      "\n",
      "@author: Koen Veenenbos & Tim Jak\n",
      "\"\"\"\n",
      "\n",
      "# Importing modules\n",
      "from osgeo import gdal\n",
      "from osgeo.gdalconst import GA_ReadOnly, GDT_Float32\n",
      "import numpy as np\n",
      "import os, subprocess\n",
      "import urllib\n",
      "import tarfile, sys\n",
      "import matplotlib.pyplot as plt\n",
      "\n",
      "#If an error is produced that matplotlib.pyplot is not working, please download the python-tk:\n",
      "#Enter next line into your Terminal to download python-tk: sudo apt-get install python-tk\n",
      "\n",
      "#Download and untar the data\n",
      "def DownloadUntarFile (Inputurl, NameFile):\n",
      "    url = Inputurl\n",
      "    urllib.urlretrieve (url, NameFile)\n",
      "    tar = tarfile.open(NameFile)\n",
      "    tar.extractall()\n",
      "    tar.close()\n",
      "\n",
      "DownloadUntarFile(\"https://dl.dropbox.com/s/zb7nrla6fqi1mq4/LC81980242014260-SC20150123044700.tar.gz\", \"LC8data.tar\")\n",
      "\n",
      "# Define bands\n",
      "band4 = './LC81980242014260LGN00_sr_band4.tif'\n",
      "band5 = './LC81980242014260LGN00_sr_band5.tif'\n",
      "\n",
      "# Open bands\n",
      "dsband4 = gdal.Open(band4, GA_ReadOnly)\n",
      "dsband5 = gdal.Open(band5, GA_ReadOnly)\n",
      "\n",
      "# Read data from the bands into an array\n",
      "band4_Arr = dsband4.GetRasterBand(1).ReadAsArray(0,0,dsband4.RasterXSize, dsband4.RasterYSize)\n",
      "band5_Arr = dsband5.GetRasterBand(1).ReadAsArray(0,0,dsband5.RasterXSize, dsband5.RasterYSize)\n",
      "\n",
      "# Set data type \n",
      "band4_Arr=band4_Arr.astype(np.float32)\n",
      "band5_Arr=band5_Arr.astype(np.float32)\n",
      "\n",
      "# Create a mask\n",
      "mask = np.greater(band5_Arr + band4_Arr,0)\n",
      "\n",
      "# Set an ignore value for values that cannot represent NDWI values and create NDWI\n",
      "with np.errstate(invalid='ignore'):\n",
      "        ndwi = np.choose(mask,(-99,(band4_Arr - band5_Arr) / (band4_Arr + band5_Arr)))\n",
      "\n",
      "# Check data if it contains correct values\n",
      "print 'NDVI min and max values', ndwi.min(), ndwi.max()\n",
      "\n",
      "# Check the real minimum value\n",
      "print ndwi[ndwi>-99].min()\n",
      "\n",
      "# Write the result to disk\n",
      "driver = gdal.GetDriverByName('GTiff')\n",
      "outDataSet = driver.Create('./ndwi.tif', dsband4.RasterXSize, dsband4.RasterYSize, 1, GDT_Float32)\n",
      "outBand = outDataSet.GetRasterBand(1)\n",
      "outBand.WriteArray(ndwi,0,0)\n",
      "outBand.SetNoDataValue(-99)\n",
      "\n",
      "# Set the projection and extent information of the dataset\n",
      "outDataSet.SetProjection(dsband4.GetProjection())\n",
      "outDataSet.SetGeoTransform(dsband4.GetGeoTransform())\n",
      "\n",
      "# Save or Flush the data\n",
      "outBand.FlushCache()\n",
      "outDataSet.FlushCache()\n",
      "\n",
      "# Reproject the file\n",
      "bash = \"gdalwarp -t_srs EPSG:4326 ./ndwi.tif ./ndwi_latlon.tif\"\n",
      "ndwi_latlon = subprocess.Popen(bash, shell = True)\n",
      "\n",
      "ndwiLatLon = gdal.Open(\"./ndwi_latlon.tif\")\n",
      "ndwiPlot = ndwiLatLon.ReadAsArray(0, 0, ndwiLatLon.RasterXSize, ndwiLatLon.RasterYSize)\n",
      "plt.imshow(ndwiPlot, interpolation = \"nearest\", vmin=0, cmap=plt.cm.gist_earth)\n",
      "plt.show()\n"
     ],
     "language": "python",
     "metadata": {},
     "outputs": [
      {
       "output_type": "stream",
       "stream": "stdout",
       "text": [
        "NDVI min and max values "
       ]
      },
      {
       "output_type": "stream",
       "stream": "stdout",
       "text": [
        "-99.0 "
       ]
      },
      {
       "output_type": "stream",
       "stream": "stdout",
       "text": [
        "21.3333\n",
        "-2.36481"
       ]
      },
      {
       "output_type": "stream",
       "stream": "stdout",
       "text": [
        "\n"
       ]
      },
      {
       "output_type": "stream",
       "stream": "stderr",
       "text": [
        "-c:51: RuntimeWarning: divide by zero encountered in divide\n"
       ]
      },
      {
       "ename": "AttributeError",
       "evalue": "'NoneType' object has no attribute 'ReadAsArray'",
       "output_type": "pyerr",
       "traceback": [
        "\u001b[0;31m---------------------------------------------------------------------------\u001b[0m\n\u001b[0;31mAttributeError\u001b[0m                            Traceback (most recent call last)",
        "\u001b[0;32m<ipython-input-2-00820a2e6cd2>\u001b[0m in \u001b[0;36m<module>\u001b[0;34m()\u001b[0m\n\u001b[1;32m     77\u001b[0m \u001b[0;34m\u001b[0m\u001b[0m\n\u001b[1;32m     78\u001b[0m \u001b[0mndwiLatLon\u001b[0m \u001b[0;34m=\u001b[0m \u001b[0mgdal\u001b[0m\u001b[0;34m.\u001b[0m\u001b[0mOpen\u001b[0m\u001b[0;34m(\u001b[0m\u001b[0;34m\"./ndwi_latlon.tif\"\u001b[0m\u001b[0;34m)\u001b[0m\u001b[0;34m\u001b[0m\u001b[0m\n\u001b[0;32m---> 79\u001b[0;31m \u001b[0mndwiPlot\u001b[0m \u001b[0;34m=\u001b[0m \u001b[0mndwiLatLon\u001b[0m\u001b[0;34m.\u001b[0m\u001b[0mReadAsArray\u001b[0m\u001b[0;34m(\u001b[0m\u001b[0;36m0\u001b[0m\u001b[0;34m,\u001b[0m \u001b[0;36m0\u001b[0m\u001b[0;34m,\u001b[0m \u001b[0mndwiLatLon\u001b[0m\u001b[0;34m.\u001b[0m\u001b[0mRasterXSize\u001b[0m\u001b[0;34m,\u001b[0m \u001b[0mndwiLatLon\u001b[0m\u001b[0;34m.\u001b[0m\u001b[0mRasterYSize\u001b[0m\u001b[0;34m)\u001b[0m\u001b[0;34m\u001b[0m\u001b[0m\n\u001b[0m\u001b[1;32m     80\u001b[0m \u001b[0mplt\u001b[0m\u001b[0;34m.\u001b[0m\u001b[0mimshow\u001b[0m\u001b[0;34m(\u001b[0m\u001b[0mndwiPlot\u001b[0m\u001b[0;34m,\u001b[0m \u001b[0minterpolation\u001b[0m \u001b[0;34m=\u001b[0m \u001b[0;34m\"nearest\"\u001b[0m\u001b[0;34m,\u001b[0m \u001b[0mvmin\u001b[0m\u001b[0;34m=\u001b[0m\u001b[0;36m0\u001b[0m\u001b[0;34m,\u001b[0m \u001b[0mcmap\u001b[0m\u001b[0;34m=\u001b[0m\u001b[0mplt\u001b[0m\u001b[0;34m.\u001b[0m\u001b[0mcm\u001b[0m\u001b[0;34m.\u001b[0m\u001b[0mgist_earth\u001b[0m\u001b[0;34m)\u001b[0m\u001b[0;34m\u001b[0m\u001b[0m\n\u001b[1;32m     81\u001b[0m \u001b[0mplt\u001b[0m\u001b[0;34m.\u001b[0m\u001b[0mshow\u001b[0m\u001b[0;34m(\u001b[0m\u001b[0;34m)\u001b[0m\u001b[0;34m\u001b[0m\u001b[0m\n",
        "\u001b[0;31mAttributeError\u001b[0m: 'NoneType' object has no attribute 'ReadAsArray'"
       ]
      }
     ],
     "prompt_number": 2
    },
    {
     "cell_type": "code",
     "collapsed": false,
     "input": [],
     "language": "python",
     "metadata": {},
     "outputs": []
    }
   ],
   "metadata": {}
  }
 ]
}